{
  "nbformat": 4,
  "nbformat_minor": 0,
  "metadata": {
    "colab": {
      "private_outputs": true,
      "provenance": []
    },
    "kernelspec": {
      "name": "python3",
      "display_name": "Python 3"
    },
    "language_info": {
      "name": "python"
    }
  },
  "cells": [
    {
      "cell_type": "code",
      "execution_count": null,
      "metadata": {
        "id": "4KBQvyvDJE6n"
      },
      "outputs": [],
      "source": [
        "import pandas as pd # Data Transformation\n",
        "import requests # establishing connect with the web/api"
      ]
    },
    {
      "cell_type": "code",
      "source": [
        "url = \"https://api.coincap.io/v2/assets\""
      ],
      "metadata": {
        "id": "IBGpHr1FJkah"
      },
      "execution_count": null,
      "outputs": []
    },
    {
      "cell_type": "code",
      "source": [
        "response = requests.get(url)\n",
        "print(response)"
      ],
      "metadata": {
        "id": "ra__CX1wL9C-"
      },
      "execution_count": null,
      "outputs": []
    },
    {
      "cell_type": "code",
      "source": [
        "response_data = response.json()\n",
        "print(response_data)"
      ],
      "metadata": {
        "id": "r54NiU5mMIjo"
      },
      "execution_count": null,
      "outputs": []
    },
    {
      "cell_type": "code",
      "source": [
        "print(len(response_data['data']))"
      ],
      "metadata": {
        "id": "7STyLwfWMnm7"
      },
      "execution_count": null,
      "outputs": []
    },
    {
      "cell_type": "code",
      "source": [
        "import requests\n",
        "import pandas as pd\n",
        "import time\n",
        "\n",
        "def fetch_all_coins_from_coingecko(pages=40):\n",
        "    all_coins = []\n",
        "    per_page = 250\n",
        "    vs_currency = \"usd\"\n",
        "\n",
        "    print(\"Fetching coin market data from CoinGecko...\")\n",
        "\n",
        "    for page in range(1, pages + 1):\n",
        "        url = \"https://api.coingecko.com/api/v3/coins/markets\"\n",
        "        params = {\n",
        "            \"vs_currency\": vs_currency,\n",
        "            \"order\": \"market_cap_desc\",\n",
        "            \"per_page\": per_page,\n",
        "            \"page\": page,\n",
        "            \"sparkline\": \"false\"\n",
        "        }\n",
        "\n",
        "        success = False\n",
        "        retries = 0\n",
        "\n",
        "        while not success and retries < 5:\n",
        "            response = requests.get(url, params=params)\n",
        "            if response.status_code == 200:\n",
        "                data = response.json()\n",
        "                if not data:\n",
        "                    print(f\"No more data at page {page}, stopping.\")\n",
        "                    return pd.DataFrame(all_coins)\n",
        "                all_coins.extend(data)\n",
        "                print(f\"✅ Fetched page {page}: {len(all_coins)} coins total\")\n",
        "                time.sleep(2)  # Safe delay\n",
        "                success = True\n",
        "            elif response.status_code == 429:\n",
        "                print(f\"⚠️ Rate limit hit at page {page}. Waiting 10 seconds...\")\n",
        "                time.sleep(10)\n",
        "                retries += 1\n",
        "            else:\n",
        "                print(f\"❌ Failed at page {page}, status code: {response.status_code}\")\n",
        "                return pd.DataFrame(all_coins)\n",
        "\n",
        "    df = pd.DataFrame(all_coins)\n",
        "   # df.to_csv(\"coingecko_all_coins.csv\", index=False)\n",
        "    print(f\"\\n✅ Done! Total coins fetched: {len(df)}\")\n",
        "    return df\n",
        "\n",
        "# Run it\n",
        "df_coins = fetch_all_coins_from_coingecko()"
      ],
      "metadata": {
        "collapsed": true,
        "id": "4AuImID3i1Mq"
      },
      "execution_count": null,
      "outputs": []
    },
    {
      "cell_type": "code",
      "source": [
        "from google.colab import files  # If using Google Colab\n",
        "\n",
        "# Save the cleaned dataset\n",
        "df_coins.to_csv(\"coingecko_all_coins.csv\", index=False) # Changed df to df_coins to access the dataframe\n",
        "\n",
        "# Download the file (For Google Colab)\n",
        "files.download(\"coingecko_all_coins.csv\") # Changed the filename to the correct name"
      ],
      "metadata": {
        "collapsed": true,
        "id": "JxuwebeNm9Tk"
      },
      "execution_count": null,
      "outputs": []
    },
    {
      "cell_type": "code",
      "source": [
        "from google.colab import drive\n",
        "drive.mount('/content/drive')"
      ],
      "metadata": {
        "id": "3nAxig1yxrdX"
      },
      "execution_count": null,
      "outputs": []
    },
    {
      "cell_type": "code",
      "source": [
        "import pandas as pd  # Library for data manipulation and analysis\n",
        "import numpy as np   # Library for numerical operations\n",
        "import matplotlib.pyplot as plt  # Library for creating static, animated, and interactive visualizations\n",
        "import seaborn as sns  # Provides a high-level interface for drawing attractive and informative statistical graphics\n",
        "import warnings\n",
        "\n",
        "warnings.filterwarnings('ignore')  # Ignore warnings for better readability"
      ],
      "metadata": {
        "id": "WpOnlklSxwJx"
      },
      "execution_count": null,
      "outputs": []
    },
    {
      "cell_type": "code",
      "source": [
        "# Update the path below to the path where your CSV file is stored in Google Drive\n",
        "crypto_analysis = '/content/drive/MyDrive/PERSONAL_PROJECT/Crypto_Market_Analysis/coingecko_all_coins.csv'\n",
        "ca_data = pd.read_csv(crypto_analysis)"
      ],
      "metadata": {
        "id": "Y0R3G3S4yy6h"
      },
      "execution_count": null,
      "outputs": []
    },
    {
      "cell_type": "code",
      "source": [
        "# Shape of the dataset\n",
        "print(ca_data.shape)"
      ],
      "metadata": {
        "id": "9Qbx4RBwzo9x"
      },
      "execution_count": null,
      "outputs": []
    },
    {
      "cell_type": "code",
      "source": [
        "# Display the first 5 rows of the DataFrame to understand what the data looks like\n",
        "print(ca_data.head())"
      ],
      "metadata": {
        "collapsed": true,
        "id": "2fIU6g_szGbH"
      },
      "execution_count": null,
      "outputs": []
    },
    {
      "cell_type": "code",
      "source": [
        "# Display the last 5 rows of the DataFrame to understand what the data looks\n",
        "print(ca_data.tail())"
      ],
      "metadata": {
        "collapsed": true,
        "id": "Lwev8q_tz8gN"
      },
      "execution_count": null,
      "outputs": []
    },
    {
      "cell_type": "code",
      "source": [
        "# Display data information\n",
        "print(ca_data.info())"
      ],
      "metadata": {
        "collapsed": true,
        "id": "WbguOrCp0ntk"
      },
      "execution_count": null,
      "outputs": []
    },
    {
      "cell_type": "code",
      "source": [
        "# Display Column Names & Data Types\n",
        "print(ca_data.dtypes)"
      ],
      "metadata": {
        "id": "0ZoB_dNy0Ewe"
      },
      "execution_count": null,
      "outputs": []
    },
    {
      "cell_type": "code",
      "source": [
        "# Display Descriptive Statistics\n",
        "print(ca_data.describe())"
      ],
      "metadata": {
        "collapsed": true,
        "id": "pPA78scp0van"
      },
      "execution_count": null,
      "outputs": []
    },
    {
      "cell_type": "code",
      "source": [
        "# Display Â Null Value Count\n",
        "print(ca_data.isnull().sum())"
      ],
      "metadata": {
        "collapsed": true,
        "id": "WmxTgNAL0x8E"
      },
      "execution_count": null,
      "outputs": []
    },
    {
      "cell_type": "code",
      "source": [
        "# Display Unique Value Count\n",
        "print(ca_data.nunique())"
      ],
      "metadata": {
        "collapsed": true,
        "id": "S0ERt5le0zTC"
      },
      "execution_count": null,
      "outputs": []
    },
    {
      "cell_type": "code",
      "source": [
        "# Display Value Counts\n",
        "print(ca_data.value_counts())"
      ],
      "metadata": {
        "collapsed": true,
        "id": "7s2PiVvl000F"
      },
      "execution_count": null,
      "outputs": []
    },
    {
      "cell_type": "code",
      "source": [
        "# Display Correlation Matrix\n",
        "print(ca_data.select_dtypes(include=np.number).corr())"
      ],
      "metadata": {
        "collapsed": true,
        "id": "pdO_wC0v02QX"
      },
      "execution_count": null,
      "outputs": []
    },
    {
      "cell_type": "code",
      "source": [
        "# Display Duplicate Check\n",
        "print(ca_data.duplicated().sum())"
      ],
      "metadata": {
        "id": "Az3BIqt203kx"
      },
      "execution_count": null,
      "outputs": []
    },
    {
      "cell_type": "code",
      "source": [
        "# Structural Cleaning – Drop Unwanted Columns\n",
        "# 'image' → not needed for analysis\n",
        "# 'roi' → a nested/dictionary object and mostly null\n",
        "\n",
        "columns_to_drop = ['roi', 'image']\n",
        "ca_data.drop(columns=columns_to_drop, inplace=True, errors='ignore')\n",
        "\n",
        "print(\"Dropped columns:\", columns_to_drop)"
      ],
      "metadata": {
        "id": "E2K3d2883yi2"
      },
      "execution_count": null,
      "outputs": []
    },
    {
      "cell_type": "code",
      "source": [
        "# Handle Missing Values in Critical Fields\n",
        "# These are essential for reliable analysis\n",
        "critical_columns = ['id', 'symbol', 'name', 'current_price', 'market_cap']\n",
        "ca_data.dropna(subset=critical_columns, inplace=True)\n",
        "\n",
        "print(\"Removed rows with nulls in critical columns\")"
      ],
      "metadata": {
        "id": "ILKCAk0Z3-Sv"
      },
      "execution_count": null,
      "outputs": []
    },
    {
      "cell_type": "code",
      "source": [
        "# Fix Data Types – Convert Strings to Datetime\n",
        "date_columns = ['ath_date', 'atl_date', 'last_updated']\n",
        "\n",
        "for col in date_columns:\n",
        "    if col in df.columns:\n",
        "        ca_data[col] = pd.to_datetime(ca_data[col], errors='coerce')\n",
        "\n",
        "print(\"Converted date columns to datetime:\", date_columns)"
      ],
      "metadata": {
        "id": "QYC_CzD-4Ifv"
      },
      "execution_count": null,
      "outputs": []
    },
    {
      "cell_type": "code",
      "source": [
        "# Deduplication\n",
        "before_dedup = ca_data.shape[0]\n",
        "ca_data.drop_duplicates(subset='id', inplace=True)\n",
        "after_dedup = ca_data.shape[0]\n",
        "\n",
        "print(f\"Removed {before_dedup - after_dedup} duplicate rows based on 'id'\")"
      ],
      "metadata": {
        "id": "ukpQid6s4W-F"
      },
      "execution_count": null,
      "outputs": []
    },
    {
      "cell_type": "code",
      "source": [
        "# Handle Outliers or Invalid Values\n",
        "before_price_filter = ca_data.shape[0]\n",
        "ca_data = ca_data[ca_data['current_price'] > 0]\n",
        "after_price_filter = ca_data.shape[0]\n",
        "\n",
        "print(f\"Removed {before_price_filter - after_price_filter} rows with non-positive price\")"
      ],
      "metadata": {
        "id": "UAUFBXxB4lCH"
      },
      "execution_count": null,
      "outputs": []
    },
    {
      "cell_type": "code",
      "source": [
        "# Clean Up Categorical Fields\n",
        "ca_data['symbol'] = ca_data['symbol'].str.upper()"
      ],
      "metadata": {
        "id": "25w4p3q24xMg"
      },
      "execution_count": null,
      "outputs": []
    },
    {
      "cell_type": "code",
      "source": [
        "# Optional Feature Engineering\n",
        "ca_data['liquidity_ratio'] = ca_data['total_volume'] / ca_data['market_cap']\n",
        "ca_data['is_stablecoin'] = ca_data['current_price'].between(0.99, 1.01)  # crude heuristic"
      ],
      "metadata": {
        "id": "tdE1HfkO45aj"
      },
      "execution_count": null,
      "outputs": []
    },
    {
      "cell_type": "code",
      "source": [
        "# Final Review and Save\n",
        "\n",
        "print(\"\\n Final shape:\", ca_data.shape)\n",
        "print(\"Remaining nulls:\\n\", ca_data.isnull().sum().sort_values(ascending=False))\n",
        "\n",
        "# Reset index for cleanliness\n",
        "ca_data.reset_index(drop=True, inplace=True)\n",
        "\n",
        "# Save to a new cleaned CSV\n",
        "cleaned_path = \"coingecko_all_coins_cleaned_final.csv\"\n",
        "ca_data.to_csv(cleaned_path, index=False)\n",
        "print(f\"Cleaned dataset saved to: {cleaned_path}\")"
      ],
      "metadata": {
        "id": "fsniPjeK5NKG"
      },
      "execution_count": null,
      "outputs": []
    }
  ]
}